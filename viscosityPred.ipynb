{
 "cells": [
  {
   "cell_type": "markdown",
   "metadata": {},
   "source": [
    "# Viscosity Prediction using SVR"
   ]
  },
  {
   "cell_type": "markdown",
   "metadata": {},
   "source": [
    "## Flow\n",
    "* Discuss data, take the statistics\n",
    "* Get performance of mean predictor, why is it good?\n",
    "* Get the performance of SVR,\n",
    "* Check the hyperparameter optimisation\n",
    "* show the decision boundary of SVR for different parameter combination\n",
    "* compare performance with mean estimator\n",
    "* Compare grid serach with PSO and genetic algorithm\n"
   ]
  },
  {
   "cell_type": "code",
   "execution_count": 29,
   "metadata": {},
   "outputs": [],
   "source": [
    "# Load the libraries\n",
    "import numpy as np\n",
    "import pandas as pd\n",
    "import matplotlib.pyplot as plt\n",
    "from sklearn.svm import SVR as SVR\n",
    "from sklearn.model_selection import train_test_split\n",
    "from sklearn.preprocessing import StandardScaler\n",
    "from sklearn.metrics import mean_squared_error as MSE"
   ]
  },
  {
   "cell_type": "code",
   "execution_count": 6,
   "metadata": {},
   "outputs": [
    {
     "name": "stdout",
     "output_type": "stream",
     "text": [
      "viscosityData.xlsx  viscosityPred.ipynb\r\n"
     ]
    }
   ],
   "source": [
    "#check the directorry for files \n",
    "! ls"
   ]
  },
  {
   "cell_type": "code",
   "execution_count": 32,
   "metadata": {},
   "outputs": [
    {
     "data": {
      "text/html": [
       "<div>\n",
       "<style scoped>\n",
       "    .dataframe tbody tr th:only-of-type {\n",
       "        vertical-align: middle;\n",
       "    }\n",
       "\n",
       "    .dataframe tbody tr th {\n",
       "        vertical-align: top;\n",
       "    }\n",
       "\n",
       "    .dataframe thead th {\n",
       "        text-align: right;\n",
       "    }\n",
       "</style>\n",
       "<table border=\"1\" class=\"dataframe\">\n",
       "  <thead>\n",
       "    <tr style=\"text-align: right;\">\n",
       "      <th></th>\n",
       "      <th>Eta (cP)</th>\n",
       "      <th>T2gm (ms)</th>\n",
       "      <th>T (K)</th>\n",
       "      <th>TE (ms)</th>\n",
       "    </tr>\n",
       "  </thead>\n",
       "  <tbody>\n",
       "    <tr>\n",
       "      <th>0</th>\n",
       "      <td>2242.150000</td>\n",
       "      <td>2.020000</td>\n",
       "      <td>303.15</td>\n",
       "      <td>0.10</td>\n",
       "    </tr>\n",
       "    <tr>\n",
       "      <th>1</th>\n",
       "      <td>30724.077831</td>\n",
       "      <td>0.988897</td>\n",
       "      <td>312.15</td>\n",
       "      <td>0.24</td>\n",
       "    </tr>\n",
       "    <tr>\n",
       "      <th>2</th>\n",
       "      <td>6217.946533</td>\n",
       "      <td>1.467505</td>\n",
       "      <td>327.15</td>\n",
       "      <td>0.24</td>\n",
       "    </tr>\n",
       "    <tr>\n",
       "      <th>3</th>\n",
       "      <td>200.533942</td>\n",
       "      <td>6.199510</td>\n",
       "      <td>376.15</td>\n",
       "      <td>0.24</td>\n",
       "    </tr>\n",
       "    <tr>\n",
       "      <th>4</th>\n",
       "      <td>88.627484</td>\n",
       "      <td>10.880354</td>\n",
       "      <td>394.15</td>\n",
       "      <td>0.24</td>\n",
       "    </tr>\n",
       "  </tbody>\n",
       "</table>\n",
       "</div>"
      ],
      "text/plain": [
       "       Eta (cP)  T2gm (ms)   T (K)  TE (ms)\n",
       "0   2242.150000   2.020000  303.15     0.10\n",
       "1  30724.077831   0.988897  312.15     0.24\n",
       "2   6217.946533   1.467505  327.15     0.24\n",
       "3    200.533942   6.199510  376.15     0.24\n",
       "4     88.627484  10.880354  394.15     0.24"
      ]
     },
     "execution_count": 32,
     "metadata": {},
     "output_type": "execute_result"
    }
   ],
   "source": [
    "#import the data \n",
    "\n",
    "dfData = pd.read_excel(\"viscosityData.xlsx\")\n",
    "\n",
    "dfData.head()"
   ]
  },
  {
   "cell_type": "code",
   "execution_count": 33,
   "metadata": {},
   "outputs": [
    {
     "name": "stdout",
     "output_type": "stream",
     "text": [
      "<class 'pandas.core.frame.DataFrame'>\n",
      "RangeIndex: 282 entries, 0 to 281\n",
      "Data columns (total 4 columns):\n",
      " #   Column     Non-Null Count  Dtype  \n",
      "---  ------     --------------  -----  \n",
      " 0   Eta (cP)   282 non-null    float64\n",
      " 1   T2gm (ms)  282 non-null    float64\n",
      " 2   T (K)      282 non-null    float64\n",
      " 3   TE (ms)    282 non-null    float64\n",
      "dtypes: float64(4)\n",
      "memory usage: 8.9 KB\n"
     ]
    }
   ],
   "source": [
    "#get the statistics\n",
    "dfData.info()"
   ]
  },
  {
   "cell_type": "code",
   "execution_count": 35,
   "metadata": {},
   "outputs": [
    {
     "data": {
      "text/html": [
       "<div>\n",
       "<style scoped>\n",
       "    .dataframe tbody tr th:only-of-type {\n",
       "        vertical-align: middle;\n",
       "    }\n",
       "\n",
       "    .dataframe tbody tr th {\n",
       "        vertical-align: top;\n",
       "    }\n",
       "\n",
       "    .dataframe thead th {\n",
       "        text-align: right;\n",
       "    }\n",
       "</style>\n",
       "<table border=\"1\" class=\"dataframe\">\n",
       "  <thead>\n",
       "    <tr style=\"text-align: right;\">\n",
       "      <th></th>\n",
       "      <th>Eta (cP)</th>\n",
       "      <th>T2gm (ms)</th>\n",
       "      <th>T (K)</th>\n",
       "      <th>TE (ms)</th>\n",
       "    </tr>\n",
       "  </thead>\n",
       "  <tbody>\n",
       "    <tr>\n",
       "      <th>count</th>\n",
       "      <td>282.000000</td>\n",
       "      <td>282.000000</td>\n",
       "      <td>282.000000</td>\n",
       "      <td>282.000000</td>\n",
       "    </tr>\n",
       "    <tr>\n",
       "      <th>mean</th>\n",
       "      <td>12978.518683</td>\n",
       "      <td>59.386988</td>\n",
       "      <td>337.433688</td>\n",
       "      <td>0.204113</td>\n",
       "    </tr>\n",
       "    <tr>\n",
       "      <th>std</th>\n",
       "      <td>61373.723431</td>\n",
       "      <td>165.578141</td>\n",
       "      <td>45.158531</td>\n",
       "      <td>0.077543</td>\n",
       "    </tr>\n",
       "    <tr>\n",
       "      <th>min</th>\n",
       "      <td>0.871718</td>\n",
       "      <td>0.230000</td>\n",
       "      <td>299.150000</td>\n",
       "      <td>0.100000</td>\n",
       "    </tr>\n",
       "    <tr>\n",
       "      <th>25%</th>\n",
       "      <td>33.894908</td>\n",
       "      <td>1.790493</td>\n",
       "      <td>303.150000</td>\n",
       "      <td>0.100000</td>\n",
       "    </tr>\n",
       "    <tr>\n",
       "      <th>50%</th>\n",
       "      <td>416.887570</td>\n",
       "      <td>5.160508</td>\n",
       "      <td>323.150000</td>\n",
       "      <td>0.240000</td>\n",
       "    </tr>\n",
       "    <tr>\n",
       "      <th>75%</th>\n",
       "      <td>3509.831760</td>\n",
       "      <td>30.875000</td>\n",
       "      <td>361.900000</td>\n",
       "      <td>0.240000</td>\n",
       "    </tr>\n",
       "    <tr>\n",
       "      <th>max</th>\n",
       "      <td>867634.812287</td>\n",
       "      <td>1239.900000</td>\n",
       "      <td>468.150000</td>\n",
       "      <td>0.300000</td>\n",
       "    </tr>\n",
       "  </tbody>\n",
       "</table>\n",
       "</div>"
      ],
      "text/plain": [
       "            Eta (cP)    T2gm (ms)       T (K)     TE (ms)\n",
       "count     282.000000   282.000000  282.000000  282.000000\n",
       "mean    12978.518683    59.386988  337.433688    0.204113\n",
       "std     61373.723431   165.578141   45.158531    0.077543\n",
       "min         0.871718     0.230000  299.150000    0.100000\n",
       "25%        33.894908     1.790493  303.150000    0.100000\n",
       "50%       416.887570     5.160508  323.150000    0.240000\n",
       "75%      3509.831760    30.875000  361.900000    0.240000\n",
       "max    867634.812287  1239.900000  468.150000    0.300000"
      ]
     },
     "execution_count": 35,
     "metadata": {},
     "output_type": "execute_result"
    }
   ],
   "source": [
    "#get the statisstics\n",
    "dfData.describe()"
   ]
  },
  {
   "cell_type": "code",
   "execution_count": 40,
   "metadata": {},
   "outputs": [
    {
     "data": {
      "text/plain": [
       "array([[<matplotlib.axes._subplots.AxesSubplot object at 0x7fe2c8d2e190>,\n",
       "        <matplotlib.axes._subplots.AxesSubplot object at 0x7fe2b88ff5d0>],\n",
       "       [<matplotlib.axes._subplots.AxesSubplot object at 0x7fe2c8d90f10>,\n",
       "        <matplotlib.axes._subplots.AxesSubplot object at 0x7fe2d885a750>]],\n",
       "      dtype=object)"
      ]
     },
     "execution_count": 40,
     "metadata": {},
     "output_type": "execute_result"
    },
    {
     "data": {
      "image/png": "[encoded data removed]",
      "text/plain": [
       "<Figure size 432x288 with 4 Axes>"
      ]
     },
     "metadata": {
      "needs_background": "light"
     },
     "output_type": "display_data"
    }
   ],
   "source": [
    "#get the hsitogram of variables\n",
    "dfData.hist()"
   ]
  },
  {
   "cell_type": "code",
   "execution_count": 15,
   "metadata": {},
   "outputs": [
    {
     "name": "stdout",
     "output_type": "stream",
     "text": [
      "   T2gm (ms)   T (K)  TE (ms)\n",
      "0   2.020000  303.15     0.10\n",
      "1   0.988897  312.15     0.24\n",
      "2   1.467505  327.15     0.24\n",
      "3   6.199510  376.15     0.24\n",
      "4  10.880354  394.15     0.24        Eta (cP)\n",
      "0   2242.150000\n",
      "1  30724.077831\n",
      "2   6217.946533\n",
      "3    200.533942\n",
      "4     88.627484\n"
     ]
    }
   ],
   "source": [
    "#separate predictors and target\n",
    "X = dfData.iloc[:,1:]\n",
    "y = dfData.iloc[:,:1]\n",
    "\n",
    "print(X.head(),y.head())"
   ]
  },
  {
   "cell_type": "code",
   "execution_count": 24,
   "metadata": {},
   "outputs": [
    {
     "name": "stdout",
     "output_type": "stream",
     "text": [
      "X_train:(197, 3), y_train: (197, 1), X_test: (85, 3), y_test: (85, 1)\n"
     ]
    }
   ],
   "source": [
    "#separate the data into training and testing sets\n",
    "X_train, X_test, y_train, y_test = train_test_split(X, y, test_size=0.3, random_state=42)\n",
    "\n",
    "print(f\"X_train:{X_train.shape}, y_train: {y_train.shape}, X_test: {X_test.shape}, y_test: {y_test.shape}\")"
   ]
  },
  {
   "cell_type": "code",
   "execution_count": 25,
   "metadata": {},
   "outputs": [],
   "source": [
    "#normalise the train data and test data\n",
    "stdScaler = StandardScaler()\n",
    "X_train = stdScaler.fit_transform(X_train)\n",
    "X_test = stdScaler.transform(X_test)"
   ]
  },
  {
   "cell_type": "code",
   "execution_count": 27,
   "metadata": {},
   "outputs": [
    {
     "data": {
      "text/plain": [
       "SVR(C=1.0, cache_size=200, coef0=0.0, degree=3, epsilon=0.8, gamma='scale',\n",
       "    kernel='rbf', max_iter=-1, shrinking=True, tol=0.001, verbose=False)"
      ]
     },
     "execution_count": 27,
     "metadata": {},
     "output_type": "execute_result"
    }
   ],
   "source": [
    "#train the svr model\n",
    "svrReg = SVR(C= 1.0, epsilon= 0.8 )\n",
    "svrReg.fit(X_train, y_train.values.ravel())"
   ]
  },
  {
   "cell_type": "code",
   "execution_count": 38,
   "metadata": {},
   "outputs": [
    {
     "name": "stdout",
     "output_type": "stream",
     "text": [
      "The training performance is:  72471.33904130013\n"
     ]
    }
   ],
   "source": [
    "#obtain the model performance for training data\n",
    "ypred_tr = svrReg.predict(X_train)\n",
    "\n",
    "RMSEtr = MSE(y_train, ypred_tr, squared=False)\n",
    "\n",
    "print(\"The training performance is: \", RMSEtr)"
   ]
  },
  {
   "cell_type": "code",
   "execution_count": 39,
   "metadata": {},
   "outputs": [
    {
     "name": "stdout",
     "output_type": "stream",
     "text": [
      "The testing performance is:  28443.09446034357\n"
     ]
    }
   ],
   "source": [
    "#obtain the model performance for training data\n",
    "ypred_ts = svrReg.predict(X_test)\n",
    "\n",
    "RMSEts = MSE(y_test, ypred_ts, squared=False)\n",
    "\n",
    "print(\"The testing performance is: \", RMSEts)"
   ]
  },
  {
   "cell_type": "code",
   "execution_count": null,
   "metadata": {},
   "outputs": [],
   "source": [
    "#"
   ]
  }
 ],
 "metadata": {
  "kernelspec": {
   "display_name": "Python 3",
   "language": "python",
   "name": "python3"
  },
  "language_info": {
   "codemirror_mode": {
    "name": "ipython",
    "version": 3
   },
   "file_extension": ".py",
   "mimetype": "text/x-python",
   "name": "python",
   "nbconvert_exporter": "python",
   "pygments_lexer": "ipython3",
   "version": "3.7.7"
  }
 },
 "nbformat": 4,
 "nbformat_minor": 4
}
