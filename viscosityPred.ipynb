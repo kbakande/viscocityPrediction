{
 "cells": [
  {
   "cell_type": "markdown",
   "metadata": {},
   "source": [
    "# Viscosity Prediction using SVR"
   ]
  },
  {
   "cell_type": "markdown",
   "metadata": {},
   "source": [
    "## Flow\n",
    "* Discuss data, take the statistics\n",
    "* Get performance of mean predictor, why is it good?\n",
    "* Get the performance of SVR,\n",
    "* Check the hyperparameter optimisation\n",
    "* show the decision boundary of SVR for different parameter combination\n",
    "* compare performance with mean estimator\n",
    "* Compare grid serach with PSO and genetic algorithm\n"
   ]
  },
  {
   "cell_type": "code",
   "execution_count": 60,
   "metadata": {},
   "outputs": [],
   "source": [
    "# Load the libraries\n",
    "import numpy as np\n",
    "import pandas as pd\n",
    "import matplotlib.pyplot as plt\n",
    "from sklearn.svm import SVR as SVR\n",
    "from sklearn.model_selection import train_test_split, cross_val_score\n",
    "from sklearn.preprocessing import StandardScaler\n",
    "from sklearn.model_selection import  KFold, RepeatedKFold, GridSearchCV, RandomizedSearchCV\n",
    "from sklearn.compose import TransformedTargetRegressor\n",
    "from sklearn.dummy import DummyRegressor\n",
    "from sklearn.metrics import mean_squared_error as MSE"
   ]
  },
  {
   "cell_type": "code",
   "execution_count": 3,
   "metadata": {},
   "outputs": [
    {
     "name": "stdout",
     "output_type": "stream",
     "text": [
      "deepLearning.ipynb  viscosityData.xlsx  viscosityPred.ipynb\r\n"
     ]
    }
   ],
   "source": [
    "#check the directorry for files \n",
    "! ls"
   ]
  },
  {
   "cell_type": "code",
   "execution_count": 4,
   "metadata": {},
   "outputs": [
    {
     "data": {
      "text/html": [
       "<div>\n",
       "<style scoped>\n",
       "    .dataframe tbody tr th:only-of-type {\n",
       "        vertical-align: middle;\n",
       "    }\n",
       "\n",
       "    .dataframe tbody tr th {\n",
       "        vertical-align: top;\n",
       "    }\n",
       "\n",
       "    .dataframe thead th {\n",
       "        text-align: right;\n",
       "    }\n",
       "</style>\n",
       "<table border=\"1\" class=\"dataframe\">\n",
       "  <thead>\n",
       "    <tr style=\"text-align: right;\">\n",
       "      <th></th>\n",
       "      <th>Eta (cP)</th>\n",
       "      <th>T2gm (ms)</th>\n",
       "      <th>T (K)</th>\n",
       "      <th>TE (ms)</th>\n",
       "    </tr>\n",
       "  </thead>\n",
       "  <tbody>\n",
       "    <tr>\n",
       "      <th>0</th>\n",
       "      <td>2242.150000</td>\n",
       "      <td>2.020000</td>\n",
       "      <td>303.15</td>\n",
       "      <td>0.10</td>\n",
       "    </tr>\n",
       "    <tr>\n",
       "      <th>1</th>\n",
       "      <td>30724.077831</td>\n",
       "      <td>0.988897</td>\n",
       "      <td>312.15</td>\n",
       "      <td>0.24</td>\n",
       "    </tr>\n",
       "    <tr>\n",
       "      <th>2</th>\n",
       "      <td>6217.946533</td>\n",
       "      <td>1.467505</td>\n",
       "      <td>327.15</td>\n",
       "      <td>0.24</td>\n",
       "    </tr>\n",
       "    <tr>\n",
       "      <th>3</th>\n",
       "      <td>200.533942</td>\n",
       "      <td>6.199510</td>\n",
       "      <td>376.15</td>\n",
       "      <td>0.24</td>\n",
       "    </tr>\n",
       "    <tr>\n",
       "      <th>4</th>\n",
       "      <td>88.627484</td>\n",
       "      <td>10.880354</td>\n",
       "      <td>394.15</td>\n",
       "      <td>0.24</td>\n",
       "    </tr>\n",
       "  </tbody>\n",
       "</table>\n",
       "</div>"
      ],
      "text/plain": [
       "       Eta (cP)  T2gm (ms)   T (K)  TE (ms)\n",
       "0   2242.150000   2.020000  303.15     0.10\n",
       "1  30724.077831   0.988897  312.15     0.24\n",
       "2   6217.946533   1.467505  327.15     0.24\n",
       "3    200.533942   6.199510  376.15     0.24\n",
       "4     88.627484  10.880354  394.15     0.24"
      ]
     },
     "execution_count": 4,
     "metadata": {},
     "output_type": "execute_result"
    }
   ],
   "source": [
    "#import the data \n",
    "\n",
    "dfData = pd.read_excel(\"viscosityData.xlsx\")\n",
    "\n",
    "dfData.head()"
   ]
  },
  {
   "cell_type": "code",
   "execution_count": 5,
   "metadata": {},
   "outputs": [
    {
     "name": "stdout",
     "output_type": "stream",
     "text": [
      "<class 'pandas.core.frame.DataFrame'>\n",
      "RangeIndex: 282 entries, 0 to 281\n",
      "Data columns (total 4 columns):\n",
      " #   Column     Non-Null Count  Dtype  \n",
      "---  ------     --------------  -----  \n",
      " 0   Eta (cP)   282 non-null    float64\n",
      " 1   T2gm (ms)  282 non-null    float64\n",
      " 2   T (K)      282 non-null    float64\n",
      " 3   TE (ms)    282 non-null    float64\n",
      "dtypes: float64(4)\n",
      "memory usage: 8.9 KB\n"
     ]
    }
   ],
   "source": [
    "#get the statistics\n",
    "dfData.info()"
   ]
  },
  {
   "cell_type": "code",
   "execution_count": 6,
   "metadata": {},
   "outputs": [
    {
     "data": {
      "text/html": [
       "<div>\n",
       "<style scoped>\n",
       "    .dataframe tbody tr th:only-of-type {\n",
       "        vertical-align: middle;\n",
       "    }\n",
       "\n",
       "    .dataframe tbody tr th {\n",
       "        vertical-align: top;\n",
       "    }\n",
       "\n",
       "    .dataframe thead th {\n",
       "        text-align: right;\n",
       "    }\n",
       "</style>\n",
       "<table border=\"1\" class=\"dataframe\">\n",
       "  <thead>\n",
       "    <tr style=\"text-align: right;\">\n",
       "      <th></th>\n",
       "      <th>Eta (cP)</th>\n",
       "      <th>T2gm (ms)</th>\n",
       "      <th>T (K)</th>\n",
       "      <th>TE (ms)</th>\n",
       "    </tr>\n",
       "  </thead>\n",
       "  <tbody>\n",
       "    <tr>\n",
       "      <th>count</th>\n",
       "      <td>282.000000</td>\n",
       "      <td>282.000000</td>\n",
       "      <td>282.000000</td>\n",
       "      <td>282.000000</td>\n",
       "    </tr>\n",
       "    <tr>\n",
       "      <th>mean</th>\n",
       "      <td>12978.518683</td>\n",
       "      <td>59.386988</td>\n",
       "      <td>337.433688</td>\n",
       "      <td>0.204113</td>\n",
       "    </tr>\n",
       "    <tr>\n",
       "      <th>std</th>\n",
       "      <td>61373.723431</td>\n",
       "      <td>165.578141</td>\n",
       "      <td>45.158531</td>\n",
       "      <td>0.077543</td>\n",
       "    </tr>\n",
       "    <tr>\n",
       "      <th>min</th>\n",
       "      <td>0.871718</td>\n",
       "      <td>0.230000</td>\n",
       "      <td>299.150000</td>\n",
       "      <td>0.100000</td>\n",
       "    </tr>\n",
       "    <tr>\n",
       "      <th>25%</th>\n",
       "      <td>33.894908</td>\n",
       "      <td>1.790493</td>\n",
       "      <td>303.150000</td>\n",
       "      <td>0.100000</td>\n",
       "    </tr>\n",
       "    <tr>\n",
       "      <th>50%</th>\n",
       "      <td>416.887570</td>\n",
       "      <td>5.160508</td>\n",
       "      <td>323.150000</td>\n",
       "      <td>0.240000</td>\n",
       "    </tr>\n",
       "    <tr>\n",
       "      <th>75%</th>\n",
       "      <td>3509.831760</td>\n",
       "      <td>30.875000</td>\n",
       "      <td>361.900000</td>\n",
       "      <td>0.240000</td>\n",
       "    </tr>\n",
       "    <tr>\n",
       "      <th>max</th>\n",
       "      <td>867634.812287</td>\n",
       "      <td>1239.900000</td>\n",
       "      <td>468.150000</td>\n",
       "      <td>0.300000</td>\n",
       "    </tr>\n",
       "  </tbody>\n",
       "</table>\n",
       "</div>"
      ],
      "text/plain": [
       "            Eta (cP)    T2gm (ms)       T (K)     TE (ms)\n",
       "count     282.000000   282.000000  282.000000  282.000000\n",
       "mean    12978.518683    59.386988  337.433688    0.204113\n",
       "std     61373.723431   165.578141   45.158531    0.077543\n",
       "min         0.871718     0.230000  299.150000    0.100000\n",
       "25%        33.894908     1.790493  303.150000    0.100000\n",
       "50%       416.887570     5.160508  323.150000    0.240000\n",
       "75%      3509.831760    30.875000  361.900000    0.240000\n",
       "max    867634.812287  1239.900000  468.150000    0.300000"
      ]
     },
     "execution_count": 6,
     "metadata": {},
     "output_type": "execute_result"
    }
   ],
   "source": [
    "#get the statisstics\n",
    "dfData.describe()"
   ]
  },
  {
   "cell_type": "code",
   "execution_count": 7,
   "metadata": {},
   "outputs": [
    {
     "data": {
      "text/plain": [
       "array([[<matplotlib.axes._subplots.AxesSubplot object at 0x7f94b04cfa90>,\n",
       "        <matplotlib.axes._subplots.AxesSubplot object at 0x7f94d0942e90>],\n",
       "       [<matplotlib.axes._subplots.AxesSubplot object at 0x7f94b08e86d0>,\n",
       "        <matplotlib.axes._subplots.AxesSubplot object at 0x7f94b0913c90>]],\n",
       "      dtype=object)"
      ]
     },
     "execution_count": 7,
     "metadata": {},
     "output_type": "execute_result"
    },
    {
     "data": {
      "image/png": "[encoded data removed]",
      "text/plain": [
       "<Figure size 432x288 with 4 Axes>"
      ]
     },
     "metadata": {
      "needs_background": "light"
     },
     "output_type": "display_data"
    }
   ],
   "source": [
    "#get the hsitogram of variables\n",
    "dfData.hist()"
   ]
  },
  {
   "cell_type": "code",
   "execution_count": 8,
   "metadata": {},
   "outputs": [
    {
     "name": "stdout",
     "output_type": "stream",
     "text": [
      "   T2gm (ms)   T (K)  TE (ms)\n",
      "0   2.020000  303.15     0.10\n",
      "1   0.988897  312.15     0.24\n",
      "2   1.467505  327.15     0.24\n",
      "3   6.199510  376.15     0.24\n",
      "4  10.880354  394.15     0.24        Eta (cP)\n",
      "0   2242.150000\n",
      "1  30724.077831\n",
      "2   6217.946533\n",
      "3    200.533942\n",
      "4     88.627484\n"
     ]
    }
   ],
   "source": [
    "#separate predictors and target\n",
    "X = dfData.iloc[:,1:]\n",
    "y = dfData.iloc[:,:1]\n",
    "\n",
    "print(X.head(),y.head())"
   ]
  },
  {
   "cell_type": "code",
   "execution_count": 9,
   "metadata": {},
   "outputs": [
    {
     "name": "stdout",
     "output_type": "stream",
     "text": [
      "X_train:(197, 3), y_train: (197, 1), X_test: (85, 3), y_test: (85, 1)\n"
     ]
    }
   ],
   "source": [
    "#separate the data into training and testing sets\n",
    "X_train, X_test, y_train, y_test = train_test_split(X, y, test_size=0.3, random_state=42)\n",
    "\n",
    "print(f\"X_train:{X_train.shape}, y_train: {y_train.shape}, X_test: {X_test.shape}, y_test: {y_test.shape}\")"
   ]
  },
  {
   "cell_type": "code",
   "execution_count": 10,
   "metadata": {},
   "outputs": [],
   "source": [
    "#normalise the train data and test data\n",
    "stdScaler = StandardScaler()\n",
    "X_train = stdScaler.fit_transform(X_train)\n",
    "X_test = stdScaler.transform(X_test)"
   ]
  },
  {
   "cell_type": "code",
   "execution_count": 11,
   "metadata": {},
   "outputs": [
    {
     "data": {
      "text/plain": [
       "SVR(C=1.0, cache_size=200, coef0=0.0, degree=3, epsilon=0.8, gamma='scale',\n",
       "    kernel='rbf', max_iter=-1, shrinking=True, tol=0.001, verbose=False)"
      ]
     },
     "execution_count": 11,
     "metadata": {},
     "output_type": "execute_result"
    }
   ],
   "source": [
    "#train the svr model\n",
    "svrReg = SVR(C= 1.0, epsilon= 0.8 )\n",
    "svrReg.fit(X_train, y_train.values.ravel())"
   ]
  },
  {
   "cell_type": "code",
   "execution_count": 12,
   "metadata": {},
   "outputs": [
    {
     "name": "stdout",
     "output_type": "stream",
     "text": [
      "The training performance is:  72471.33904130013\n"
     ]
    }
   ],
   "source": [
    "#obtain the model performance for training data\n",
    "ypred_tr = svrReg.predict(X_train)\n",
    "\n",
    "RMSEtr = MSE(y_train, ypred_tr, squared=False)\n",
    "\n",
    "print(\"The training performance is: \", RMSEtr)"
   ]
  },
  {
   "cell_type": "code",
   "execution_count": 13,
   "metadata": {},
   "outputs": [
    {
     "name": "stdout",
     "output_type": "stream",
     "text": [
      "The testing performance is:  28443.09446034357\n"
     ]
    }
   ],
   "source": [
    "#obtain the model performance for training data\n",
    "ypred_ts = svrReg.predict(X_test)\n",
    "\n",
    "RMSEts = MSE(y_test, ypred_ts, squared=False)\n",
    "\n",
    "print(\"The testing performance is: \", RMSEts)"
   ]
  },
  {
   "cell_type": "code",
   "execution_count": 35,
   "metadata": {},
   "outputs": [],
   "source": [
    "#hyperparameter optimisation\n",
    "##define the model\n",
    "svr_opt = SVR();\n",
    "\n",
    "##define the cross validation\n",
    "cv = RepeatedKFold(n_splits=3, n_repeats=5, random_state=1)\n",
    "\n",
    "\n",
    "##define the solution space\n",
    "param_space = dict()\n",
    "param_space[\"kernel\"] = ['linear', 'poly', 'rbf', 'sigmoid']\n",
    "param_space[\"C\"] =  [1e0, 1e1, 1e2, 1e3]\n",
    "param_space[\"gamma\"] = np.logspace(-2, 2, 5)\n",
    "param_space[\"epsilon\"] = np.logspace(-2, 2, 5)\n",
    "\n",
    "randomModel = RandomizedSearchCV(svr_opt, param_space, n_iter=50, scoring=\"neg_mean_absolute_error\", n_jobs=-1, cv=cv, \n",
    "                        random_state=1)\n",
    "\n"
   ]
  },
  {
   "cell_type": "code",
   "execution_count": 36,
   "metadata": {},
   "outputs": [
    {
     "name": "stdout",
     "output_type": "stream",
     "text": [
      "Best Score: -5884.273932924207\n",
      "Best Hyperparameters: {'kernel': 'rbf', 'gamma': 10.0, 'epsilon': 0.01, 'C': 1000.0}\n"
     ]
    }
   ],
   "source": [
    "#conduct serach\n",
    "svr_tr = randomModel.fit(X_train[:50, :], y_train[:50].values.ravel())\n",
    "\n",
    "# summarize result\n",
    "print('Best Score: %s' % svr_tr.best_score_)\n",
    "print('Best Hyperparameters: %s' % svr_tr.best_params_)"
   ]
  },
  {
   "cell_type": "code",
   "execution_count": 37,
   "metadata": {},
   "outputs": [
    {
     "data": {
      "text/plain": [
       "SVR(C=1000.0, cache_size=200, coef0=0.0, degree=3, epsilon=0.01, gamma=10.0,\n",
       "    kernel='rbf', max_iter=-1, shrinking=True, tol=0.001, verbose=False)"
      ]
     },
     "execution_count": 37,
     "metadata": {},
     "output_type": "execute_result"
    }
   ],
   "source": [
    "#train on all parameters\n",
    "paramBest = svr_tr.best_params_\n",
    "svr_best = SVR(C=paramBest['C'], kernel=paramBest['kernel'], gamma=paramBest['gamma'], epsilon=paramBest['epsilon'])\n",
    "svr_best.fit(X_train, y_train.values.ravel())"
   ]
  },
  {
   "cell_type": "code",
   "execution_count": 38,
   "metadata": {},
   "outputs": [
    {
     "name": "stdout",
     "output_type": "stream",
     "text": [
      "The optimised testing performance is:  25770.59825340428\n"
     ]
    }
   ],
   "source": [
    "#obtain the otpimised model performance for testing data\n",
    "# yopt_ts = svr_tr.predict(X_test)   #from small sample training in CV\n",
    "yopt_ts = svr_best.predict(X_test)\n",
    "RMSEopt = MSE(y_test, yopt_ts, squared=False)\n",
    "\n",
    "print(\"The optimised testing performance is: \", RMSEopt)"
   ]
  },
  {
   "cell_type": "code",
   "execution_count": 41,
   "metadata": {},
   "outputs": [
    {
     "name": "stdout",
     "output_type": "stream",
     "text": [
      "The dummy regressor testing performance is:  27288.209822006687\n"
     ]
    }
   ],
   "source": [
    "##Dummy regressor\n",
    "dummy_regr = DummyRegressor(strategy=\"mean\")\n",
    "dummy_regr.fit(X_train, y_train.values.ravel())\n",
    "\n",
    "ydummy_ts = dummy_regr.predict(X_test)\n",
    "RMSEdummy = MSE(y_test, ydummy_ts, squared=False)\n",
    "\n",
    "print(\"The dummy regressor testing performance is: \", RMSEdummy)"
   ]
  },
  {
   "cell_type": "code",
   "execution_count": 47,
   "metadata": {},
   "outputs": [
    {
     "name": "stderr",
     "output_type": "stream",
     "text": [
      "/Users/ko-akande/anaconda3/lib/python3.7/site-packages/sklearn/preprocessing/_data.py:2357: UserWarning: n_quantiles (900) is greater than the total number of samples (282). n_quantiles is set to n_samples.\n",
      "  % (self.n_quantiles, n_samples))\n"
     ]
    },
    {
     "data": {
      "text/plain": [
       "Text(-6.8, 0.479, 'Transformed target distribution')"
      ]
     },
     "execution_count": 47,
     "metadata": {},
     "output_type": "execute_result"
    },
    {
     "data": {
      "image/png": "[encoded data removed]",
      "text/plain": [
       "<Figure size 432x288 with 2 Axes>"
      ]
     },
     "metadata": {
      "needs_background": "light"
     },
     "output_type": "display_data"
    }
   ],
   "source": [
    "##transform y\n",
    "from sklearn.preprocessing import QuantileTransformer, quantile_transform\n",
    "\n",
    "y_trans = quantile_transform(y,\n",
    "                             n_quantiles=900,\n",
    "                             output_distribution='normal',\n",
    "                             copy=True).squeeze()\n",
    "\n",
    "##plot the density\n",
    "density_param = {'density': True}\n",
    "    \n",
    "f, (ax0, ax1) = plt.subplots(1, 2)\n",
    "\n",
    "ax0.hist(y, bins=100, **density_param)\n",
    "ax0.set_ylabel('Probability')\n",
    "ax0.set_xlabel('Target')\n",
    "ax0.text(s='Target distribution', x=1.2e5, y=9.8e-6, fontsize=12)\n",
    "ax0.ticklabel_format(axis=\"both\", style=\"sci\", scilimits=(0, 0))\n",
    "\n",
    "\n",
    "ax1.hist(y_trans, bins=100, **density_param)\n",
    "ax1.set_ylabel('Probability')\n",
    "ax1.set_xlabel('Target')\n",
    "ax1.text(s='Transformed target distribution', x=-6.8, y=0.479, fontsize=12)"
   ]
  },
  {
   "cell_type": "code",
   "execution_count": 120,
   "metadata": {},
   "outputs": [],
   "source": [
    "# # ##use tranformed target regressor\n",
    "\n",
    "# # prepare the model with target scaling\n",
    "# # SVR_trans = TransformedTargetRegressor(regressor=SVR(), transformer=QuantileTransformer(n_quantiles=20, output_distribution='normal'))\n",
    "# SVR_trans = TransformedTargetRegressor(regressor=SVR(),func=np.log1p,inverse_func=np.expm1)\n",
    "\n",
    "# # ##define the cross validation\n",
    "# # cv = RepeatedKFold(n_splits=3, n_repeats=1, random_state=1)\n",
    "# cv = 3\n",
    "\n",
    "# param_trans = {\n",
    "#     \"regressor__C\": [1e0, 1e1, 1e2, 1e3],\n",
    "#     \"regressor__epsilon\": np.logspace(-2, 2, 5),\n",
    "#     \"regressor__gamma\": np.logspace(-2, 2, 5),\n",
    "#     \"regressor__kernel\": ['linear', 'poly', 'rbf', 'sigmoid']\n",
    "# }\n",
    "\n",
    "# transModel = RandomizedSearchCV(SVR_trans, param_distributions = param_trans, n_iter= 1, scoring=\"neg_mean_absolute_error\", n_jobs=-1, cv=cv, \n",
    "#                         random_state=1, verbose=3)\n"
   ]
  },
  {
   "cell_type": "code",
   "execution_count": 224,
   "metadata": {},
   "outputs": [],
   "source": [
    "# ##use tranformed target regressor\n",
    "\n",
    "SVR_trans = TransformedTargetRegressor(regressor=SVR(), transformer=QuantileTransformer(n_quantiles=900, output_distribution='normal'))\n",
    "\n",
    "# ##define the cross validation\n",
    "cv = RepeatedKFold(n_splits=3, n_repeats=1, random_state=1)\n",
    "\n",
    "# param_trans = {\n",
    "#     \"regressor__C\": [1e0, 1e1],\n",
    "#     \"regressor__epsilon\": np.logspace(-2, 2, 2),\n",
    "#     \"regressor__gamma\": np.logspace(-2, 2, 2),\n",
    "#     \"regressor__kernel\": ['linear', 'rbf']\n",
    "# }\n",
    "param_trans = {\n",
    "    \"regressor__C\": [1e0, 1e1, 1e2, 1e3],\n",
    "    \"regressor__epsilon\": np.logspace(-2, 2, 4),\n",
    "    \"regressor__gamma\": np.logspace(-2, 2, 4),\n",
    "    \"regressor__kernel\": ['linear', 'rbf']#, 'sigmoid']\n",
    "}\n",
    "\n",
    "transModel = GridSearchCV(SVR_trans, param_grid = param_trans, scoring=\"neg_mean_absolute_error\", n_jobs=-1, cv=cv, verbose=3)"
   ]
  },
  {
   "cell_type": "code",
   "execution_count": 225,
   "metadata": {},
   "outputs": [
    {
     "name": "stdout",
     "output_type": "stream",
     "text": [
      "Fitting 3 folds for each of 128 candidates, totalling 384 fits\n"
     ]
    },
    {
     "name": "stderr",
     "output_type": "stream",
     "text": [
      "[Parallel(n_jobs=-1)]: Using backend LokyBackend with 12 concurrent workers.\n",
      "[Parallel(n_jobs=-1)]: Done   8 tasks      | elapsed:    3.9s\n",
      "[Parallel(n_jobs=-1)]: Done 104 tasks      | elapsed:   11.9s\n",
      "[Parallel(n_jobs=-1)]: Done 264 tasks      | elapsed:  2.3min\n"
     ]
    },
    {
     "name": "stdout",
     "output_type": "stream",
     "text": [
      "Best Score: -9301.675369635503\n",
      "Best Hyperparameters: {'regressor__C': 1000.0, 'regressor__epsilon': 0.21544346900318834, 'regressor__gamma': 0.01, 'regressor__kernel': 'rbf'}\n"
     ]
    },
    {
     "name": "stderr",
     "output_type": "stream",
     "text": [
      "[Parallel(n_jobs=-1)]: Done 384 out of 384 | elapsed:  8.8min finished\n",
      "/Users/ko-akande/anaconda3/lib/python3.7/site-packages/sklearn/preprocessing/_data.py:2357: UserWarning: n_quantiles (900) is greater than the total number of samples (197). n_quantiles is set to n_samples.\n",
      "  % (self.n_quantiles, n_samples))\n"
     ]
    }
   ],
   "source": [
    "#conduct serach\n",
    "svrtr_trans = transModel.fit(X_train, y_train.values.ravel())\n",
    "# svrtr_trans = transModel.fit(X_train.iloc[:50, :], y_train[:50].values.ravel())\n",
    "# summarize result\n",
    "print('Best Score: %s' % svrtr_trans.best_score_)\n",
    "print('Best Hyperparameters: %s' % svrtr_trans.best_params_)"
   ]
  },
  {
   "cell_type": "code",
   "execution_count": 226,
   "metadata": {},
   "outputs": [
    {
     "data": {
      "text/plain": [
       "SVR(C=1000.0, cache_size=200, coef0=0.0, degree=3, epsilon=0.21544346900318834,\n",
       "    gamma=0.01, kernel='rbf', max_iter=-1, shrinking=True, tol=0.001,\n",
       "    verbose=False)"
      ]
     },
     "execution_count": 226,
     "metadata": {},
     "output_type": "execute_result"
    }
   ],
   "source": [
    "#train on all parameters\n",
    "paramBest = svrtr_trans.best_params_\n",
    "svr_best = SVR(C=paramBest['regressor__C'], kernel=paramBest['regressor__kernel'], \n",
    "               gamma=paramBest['regressor__gamma'], epsilon=paramBest['regressor__epsilon'])\n",
    "svr_best.fit(X_train, y_train.values.ravel())"
   ]
  },
  {
   "cell_type": "code",
   "execution_count": 233,
   "metadata": {},
   "outputs": [],
   "source": [
    "#save the model\n",
    "import pickle\n",
    "\n",
    "modeltransGS = \"transformedModel.sav\"\n",
    "BestModelGS = \"transformedBestModel.sav\"\n",
    "pickle.dump(svrtr_trans, open(modeltransGS, \"wb\"))\n",
    "pickle.dump(svr_best, open(BestModelGS, \"wb\"))"
   ]
  },
  {
   "cell_type": "code",
   "execution_count": 227,
   "metadata": {},
   "outputs": [
    {
     "name": "stdout",
     "output_type": "stream",
     "text": [
      "The optimised testing performance for transformed y is:  10219.412289263011\n"
     ]
    }
   ],
   "source": [
    "# yrand = svr_best.predict(X_test)\n",
    "yrand = svrtr_trans.predict(X_test)\n",
    "RMSEopt = MSE(y_test.values, yrand, squared=False)\n",
    "\n",
    "print(\"The optimised testing performance for transformed y is: \", RMSEopt)"
   ]
  },
  {
   "cell_type": "code",
   "execution_count": 229,
   "metadata": {},
   "outputs": [
    {
     "name": "stdout",
     "output_type": "stream",
     "text": [
      "The optimised R2 for testing performance is:  0.8554127537116518\n"
     ]
    }
   ],
   "source": [
    "#get r2 score\n",
    "from sklearn.metrics import r2_score\n",
    "r2opt = r2_score(y_test.values, yrand)\n",
    "\n",
    "print(\"The optimised R2 for testing performance is: \", r2opt)"
   ]
  },
  {
   "cell_type": "code",
   "execution_count": 231,
   "metadata": {},
   "outputs": [
    {
     "name": "stdout",
     "output_type": "stream",
     "text": [
      "The optimised MAE for testing performance is:  3680.0710375200715\n"
     ]
    }
   ],
   "source": [
    "#get MAE\n",
    "from sklearn.metrics import mean_absolute_error as MAE\n",
    "MAEopt = MAE(y_test.values, yrand)\n",
    "\n",
    "print(\"The optimised MAE for testing performance is: \", MAEopt)"
   ]
  },
  {
   "cell_type": "code",
   "execution_count": null,
   "metadata": {},
   "outputs": [],
   "source": [
    "rmse = np.sqrt(((y_test.values - yrand) ** 2).mean())\n",
    "\n",
    "print(rmse)"
   ]
  },
  {
   "cell_type": "markdown",
   "metadata": {},
   "source": [
    "### References\n",
    "[Solved the problem of nested estimator in GridSearchCV](1)\n",
    "[https://stackoverflow.com/questions/12632992/gridsearch-for-an-estimator-inside-a-onevsrestclassifier/12637528#12637528](https://stackoverflow.com/questions/12632992/gridsearch-for-an-estimator-inside-a-onevsrestclassifier/12637528#12637528)"
   ]
  },
  {
   "cell_type": "code",
   "execution_count": null,
   "metadata": {},
   "outputs": [],
   "source": []
  }
 ],
 "metadata": {
  "kernelspec": {
   "display_name": "Python 3",
   "language": "python",
   "name": "python3"
  },
  "language_info": {
   "codemirror_mode": {
    "name": "ipython",
    "version": 3
   },
   "file_extension": ".py",
   "mimetype": "text/x-python",
   "name": "python",
   "nbconvert_exporter": "python",
   "pygments_lexer": "ipython3",
   "version": "3.7.7"
  }
 },
 "nbformat": 4,
 "nbformat_minor": 4
}
